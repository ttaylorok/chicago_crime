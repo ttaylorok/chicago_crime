{
 "cells": [
  {
   "cell_type": "code",
   "execution_count": null,
   "metadata": {},
   "outputs": [],
   "source": [
    "import pandas as pd\n",
    "import json"
   ]
  },
  {
   "cell_type": "code",
   "execution_count": null,
   "metadata": {},
   "outputs": [],
   "source": [
    "with open(r'C:\\Users\\comp\\Documents\\chicago_crime\\walmarts_google_api_pg1') as f:\n",
    "  p1 = json.load(f)\n",
    "with open(r'C:\\Users\\comp\\Documents\\chicago_crime\\walmarts_google_api_pg2') as f:\n",
    "  p2 = json.load(f)\n",
    "with open(r'C:\\Users\\comp\\Documents\\chicago_crime\\walmarts_google_api_pg3') as f:\n",
    "  p3 = json.load(f)"
   ]
  },
  {
   "cell_type": "code",
   "execution_count": null,
   "metadata": {},
   "outputs": [],
   "source": [
    "df1 = pd.DataFrame(p1['results'])\n",
    "df2 = pd.DataFrame(p2['results'])\n",
    "df3 = pd.DataFrame(p3['results'])"
   ]
  },
  {
   "cell_type": "code",
   "execution_count": null,
   "metadata": {},
   "outputs": [],
   "source": [
    "df_merge = pd.concat([df1, df2, df3])"
   ]
  },
  {
   "cell_type": "code",
   "execution_count": null,
   "metadata": {},
   "outputs": [],
   "source": [
    "len(df_merge.index)"
   ]
  },
  {
   "cell_type": "code",
   "execution_count": null,
   "metadata": {},
   "outputs": [],
   "source": [
    "df_merge"
   ]
  },
  {
   "cell_type": "code",
   "execution_count": null,
   "metadata": {},
   "outputs": [],
   "source": [
    "import shapely\n",
    "from shapely.ops import asShape\n",
    "from shapely.geometry import Point"
   ]
  },
  {
   "cell_type": "code",
   "execution_count": null,
   "metadata": {},
   "outputs": [],
   "source": [
    "df_merge.iloc[0,1]['location']"
   ]
  },
  {
   "cell_type": "code",
   "execution_count": null,
   "metadata": {},
   "outputs": [],
   "source": [
    "Point(df_merge.iloc[0,1]['location']['lng'], df_merge.iloc[0,1]['location']['lat'])"
   ]
  },
  {
   "cell_type": "code",
   "execution_count": null,
   "metadata": {},
   "outputs": [],
   "source": [
    "def parse_wm_point(g):\n",
    "    p = Point(g['location']['lng'], g['location']['lat'])\n",
    "    return WKTElement(p, srid=4326)\n",
    "\n",
    "df_merge['geom'] = df_merge['geometry'].apply(lambda x : parse_wm_point(x))"
   ]
  },
  {
   "cell_type": "code",
   "execution_count": null,
   "metadata": {},
   "outputs": [],
   "source": [
    "df_merge"
   ]
  },
  {
   "cell_type": "code",
   "execution_count": null,
   "metadata": {},
   "outputs": [],
   "source": [
    "df_merge.dtypes"
   ]
  },
  {
   "cell_type": "code",
   "execution_count": null,
   "metadata": {},
   "outputs": [],
   "source": [
    "from geoalchemy2 import Geometry, WKTElement\n",
    "import  sqlalchemy \n",
    "\n",
    "pg = open('db_credentials.txt')\n",
    "db = pg.read()\n",
    "pg.close()\n",
    "\n",
    "# load into db\n",
    "engine = sqlalchemy.create_engine(db)\n",
    "df_merge[['id','name','geom']].to_sql('walmart', engine, if_exists='replace', index=False, dtype={'geom': Geometry('POINT', srid= 4326)})"
   ]
  },
  {
   "cell_type": "code",
   "execution_count": null,
   "metadata": {},
   "outputs": [],
   "source": [
    "with open(r'C:\\Users\\comp\\Documents\\chicago_crime\\walmart_supercenter') as f:\n",
    "  p1 = json.load(f)\n",
    "with open(r'C:\\Users\\comp\\Documents\\chicago_crime\\walmart_market') as f:\n",
    "  p2 = json.load(f)"
   ]
  },
  {
   "cell_type": "code",
   "execution_count": null,
   "metadata": {},
   "outputs": [],
   "source": [
    "df1 = pd.DataFrame(p1['results'])\n",
    "df2 = pd.DataFrame(p2['results'])\n",
    "\n",
    "df_merge = pd.concat([df1, df2])\n",
    "\n",
    "df_merge['geom'] = df_merge['geometry'].apply(lambda x : parse_wm_point(x))\n",
    "\n",
    "df_merge.drop_duplicates(subset = 'id', inplace=True)"
   ]
  },
  {
   "cell_type": "code",
   "execution_count": null,
   "metadata": {},
   "outputs": [],
   "source": [
    "# load into db\n",
    "df_merge[['id','name','geom']].to_sql('walmart', engine, if_exists='replace', index=False, dtype={'geom': Geometry('POINT', srid= 4326)})"
   ]
  },
  {
   "cell_type": "code",
   "execution_count": null,
   "metadata": {},
   "outputs": [],
   "source": [
    "points = pd.read_csv('google_query_points_v2.csv')"
   ]
  },
  {
   "cell_type": "code",
   "execution_count": null,
   "metadata": {},
   "outputs": [],
   "source": [
    "points"
   ]
  },
  {
   "cell_type": "code",
   "execution_count": null,
   "metadata": {},
   "outputs": [],
   "source": [
    "import requests\n",
    "import pandas as pd\n",
    "import time\n",
    "\n",
    "fin = open(r'C:\\Users\\comp\\Documents\\chicago_crime\\google_maps_token.txt')\n",
    "token = fin.read()\n",
    "fin.close()\n",
    "\n",
    "dist = 2800\n",
    "\n",
    "for i, row in points.iterrows():\n",
    "    print(i)\n",
    "    x = row['X']\n",
    "    y = row['Y']\n",
    "    file_url = 'https://maps.googleapis.com/maps/api/place/nearbysearch/json?location=%.6f,%.6f&radius=%s&keyword=liquor+store&key=%s' % (y,x,dist,token)\n",
    " \n",
    "    file_object = requests.get(file_url)\n",
    "\n",
    "    with open('request_%d.txt' % (i), 'wb') as local_file:\n",
    "        local_file.write(file_object.content)\n",
    "        \n",
    "    with open('request_%d.txt' % (i), 'r') as f:\n",
    "      j1 = json.load(f)\n",
    "\n",
    "    if i == 0:\n",
    "        df = pd.DataFrame(j1['results'])\n",
    "    else:\n",
    "        df = pd.concat([df, pd.DataFrame(j1['results'])])\n",
    "        \n",
    "    n = 1\n",
    "    while 'next_page_token' in j1.keys():\n",
    "        time.sleep(5)\n",
    "        file_url = 'https://maps.googleapis.com/maps/api/place/nearbysearch/json?key=%s&pagetoken=%s' % (token, j1['next_page_token'])\n",
    "        print(file_url)\n",
    "        file_object = requests.get(file_url)\n",
    "        \n",
    "        with open('request_%d_%d.txt' % (i,n), 'wb') as local_file:\n",
    "            local_file.write(file_object.content)  \n",
    "        with open('request_%d_%d.txt' % (i,n), 'r') as f:\n",
    "          j1 = json.load(f)\n",
    "    \n",
    "\n",
    "        df = pd.concat([df, pd.DataFrame(j1['results'])])\n",
    "        n += 1\n",
    "        #break\n",
    "#     if n > 1:\n",
    "#         break\n",
    "    time.sleep(5)\n",
    "        \n",
    "    "
   ]
  },
  {
   "cell_type": "code",
   "execution_count": null,
   "metadata": {},
   "outputs": [],
   "source": [
    "df2 = df.drop_duplicates(subset = 'id')"
   ]
  },
  {
   "cell_type": "code",
   "execution_count": null,
   "metadata": {},
   "outputs": [],
   "source": [
    "df2"
   ]
  },
  {
   "cell_type": "code",
   "execution_count": null,
   "metadata": {},
   "outputs": [],
   "source": [
    "from shapely.geometry import Point\n",
    "\n",
    "from geoalchemy2 import Geometry, WKTElement\n",
    "import  sqlalchemy \n",
    "\n",
    "pg = open('db_credentials.txt')\n",
    "db = pg.read()\n",
    "pg.close()\n",
    "\n",
    "df2['geom'] = df2['geometry'].apply(lambda x : parse_wm_point(x))\n",
    "df2.drop(columns = ['geometry', 'opening_hours', 'photos', 'plus_code'], inplace = True)\n",
    "\n",
    "# load into db\n",
    "engine = sqlalchemy.create_engine(db)\n",
    "df2.to_sql('liqour_stores', engine, if_exists='replace', index=False, dtype={'geom': Geometry('POINT', srid= 4326)})"
   ]
  },
  {
   "cell_type": "code",
   "execution_count": null,
   "metadata": {},
   "outputs": [],
   "source": [
    "with open(r'request.txt') as f:\n",
    "  j1 = json.load(f)\n",
    "\n",
    "# j1 = json.load('request.txt')\n",
    "p1 = pd.DataFrame(j1['results'])"
   ]
  },
  {
   "cell_type": "code",
   "execution_count": null,
   "metadata": {},
   "outputs": [],
   "source": [
    "p1"
   ]
  },
  {
   "cell_type": "code",
   "execution_count": null,
   "metadata": {},
   "outputs": [],
   "source": [
    "print(file_object.content)"
   ]
  },
  {
   "cell_type": "code",
   "execution_count": null,
   "metadata": {},
   "outputs": [],
   "source": [
    "import json\n",
    "json.load(file_object.content)"
   ]
  },
  {
   "cell_type": "code",
   "execution_count": null,
   "metadata": {},
   "outputs": [],
   "source": []
  }
 ],
 "metadata": {
  "kernelspec": {
   "display_name": "Python 3",
   "language": "python",
   "name": "python3"
  },
  "language_info": {
   "codemirror_mode": {
    "name": "ipython",
    "version": 3
   },
   "file_extension": ".py",
   "mimetype": "text/x-python",
   "name": "python",
   "nbconvert_exporter": "python",
   "pygments_lexer": "ipython3",
   "version": "3.8.1"
  }
 },
 "nbformat": 4,
 "nbformat_minor": 4
}
